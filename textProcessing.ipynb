{
  "cells": [
    {
      "cell_type": "markdown",
      "metadata": {
        "id": "view-in-github",
        "colab_type": "text"
      },
      "source": [
        "<a href=\"https://colab.research.google.com/github/nafilahhans/ML/blob/main/textProcessing.ipynb\" target=\"_parent\"><img src=\"https://colab.research.google.com/assets/colab-badge.svg\" alt=\"Open In Colab\"/></a>"
      ]
    },
    {
      "cell_type": "code",
      "execution_count": null,
      "metadata": {
        "id": "w9ZUL6t3Jo54",
        "outputId": "18e309f5-5b33-4a93-e4cd-f20188ee3ce8"
      },
      "outputs": [
        {
          "name": "stdout",
          "output_type": "stream",
          "text": [
            "22\n"
          ]
        }
      ],
      "source": [
        "word = 'Analitika Media Sosial'\n",
        "print(len(word))"
      ]
    },
    {
      "cell_type": "code",
      "execution_count": null,
      "metadata": {
        "id": "6uL5IN-EJo55",
        "outputId": "6c66fd9f-210f-43fa-880a-b8343fd5e840"
      },
      "outputs": [
        {
          "name": "stdout",
          "output_type": "stream",
          "text": [
            "6\n"
          ]
        }
      ],
      "source": [
        "multiline = '''1\n",
        "2\n",
        "3\n",
        "'''\n",
        "print(len(multiline))"
      ]
    },
    {
      "cell_type": "code",
      "execution_count": null,
      "metadata": {
        "id": "glFdtM2ZJo55",
        "outputId": "1f48fe4e-c05e-4b84-8935-bea4c69d4a30"
      },
      "outputs": [
        {
          "name": "stdout",
          "output_type": "stream",
          "text": [
            "12\n"
          ]
        }
      ],
      "source": [
        "str1 = '1'\n",
        "str2 = '2'\n",
        "\n",
        "print(str1 + str2)"
      ]
    },
    {
      "cell_type": "code",
      "execution_count": null,
      "metadata": {
        "id": "TUMUqX4dJo55",
        "outputId": "517503af-4c4b-4b5d-f0e6-6299055d4f15"
      },
      "outputs": [
        {
          "name": "stdout",
          "output_type": "stream",
          "text": [
            "97\n",
            "32\n",
            "65\n"
          ]
        }
      ],
      "source": [
        "ch1 = 'a'\n",
        "ch2 = ' ' #space\n",
        "ch3 = 'A'\n",
        "\n",
        "print(ord(ch1))\n",
        "print(ord(ch2))\n",
        "print(ord(ch3))"
      ]
    },
    {
      "cell_type": "code",
      "execution_count": null,
      "metadata": {
        "id": "VRiEprk5Jo55",
        "outputId": "c926ec3a-6419-428f-acd9-6229768b96bb"
      },
      "outputs": [
        {
          "name": "stdout",
          "output_type": "stream",
          "text": [
            "A\n"
          ]
        }
      ],
      "source": [
        "print(chr(65))"
      ]
    },
    {
      "cell_type": "code",
      "execution_count": null,
      "metadata": {
        "id": "soHIUsgUJo56",
        "outputId": "2f1cde4c-680b-4282-8525-8b987fec07e9"
      },
      "outputs": [
        {
          "name": "stdout",
          "output_type": "stream",
          "text": [
            "nltk Md Ssl"
          ]
        }
      ],
      "source": [
        "cthString=\"Analitika Media Sosial\"\n",
        "vokal = ['a','i','u','e','o']\n",
        "\n",
        "for i in range(len(cthString)):\n",
        "    if cthString[i].lower() in vokal:\n",
        "        continue\n",
        "    print(cthString[i], end=\"\")"
      ]
    },
    {
      "cell_type": "code",
      "execution_count": null,
      "metadata": {
        "id": "nsNLnYZvJo56",
        "outputId": "961cbc6e-712b-4ad3-82fb-def9a926bffb"
      },
      "outputs": [
        {
          "name": "stdout",
          "output_type": "stream",
          "text": [
            "nt iol\n",
            "nali\n",
            "litika Media Sosial\n",
            "Ana\n",
            "AaiiaMdaSsa\n"
          ]
        }
      ],
      "source": [
        "cthSlice = \"Analitika Media Sosial\"\n",
        "\n",
        "print(cthSlice[1::4])\n",
        "print(cthSlice[1:5])\n",
        "print(cthSlice[3:])\n",
        "print(cthSlice[:3])\n",
        "print(cthSlice[::2])"
      ]
    },
    {
      "cell_type": "code",
      "execution_count": null,
      "metadata": {
        "id": "v5bEH3pyJo56",
        "outputId": "52ce5cd9-eb87-4795-94a6-2ea8ea353add"
      },
      "outputs": [
        {
          "name": "stdout",
          "output_type": "stream",
          "text": [
            "b\n"
          ]
        },
        {
          "ename": "TypeError",
          "evalue": "'str' object doesn't support item deletion",
          "output_type": "error",
          "traceback": [
            "\u001b[0;31m---------------------------------------------------------------------------\u001b[0m",
            "\u001b[0;31mTypeError\u001b[0m                                 Traceback (most recent call last)",
            "Input \u001b[0;32mIn [8]\u001b[0m, in \u001b[0;36m<cell line: 4>\u001b[0;34m()\u001b[0m\n\u001b[1;32m      1\u001b[0m alphabet \u001b[38;5;241m=\u001b[39m \u001b[38;5;124m'\u001b[39m\u001b[38;5;124mabcdefghijklmnopqrstuvwxyz\u001b[39m\u001b[38;5;124m'\u001b[39m\n\u001b[1;32m      3\u001b[0m \u001b[38;5;28mprint\u001b[39m(alphabet[\u001b[38;5;241m1\u001b[39m])\n\u001b[0;32m----> 4\u001b[0m \u001b[38;5;28;01mdel\u001b[39;00m alphabet[\u001b[38;5;241m0\u001b[39m]\n",
            "\u001b[0;31mTypeError\u001b[0m: 'str' object doesn't support item deletion"
          ]
        }
      ],
      "source": [
        "alphabet = 'abcdefghijklmnopqrstuvwxyz'\n",
        "\n",
        "print(alphabet[1])\n",
        "del alphabet[0]"
      ]
    },
    {
      "cell_type": "code",
      "execution_count": null,
      "metadata": {
        "id": "yjsco3gBJo56"
      },
      "outputs": [],
      "source": [
        "alphabet.insert(\"A\")"
      ]
    },
    {
      "cell_type": "code",
      "execution_count": null,
      "metadata": {
        "id": "D3WEkEewJo57"
      },
      "outputs": [],
      "source": [
        "print(min(\"aAbByYzZ\"))"
      ]
    },
    {
      "cell_type": "code",
      "execution_count": null,
      "metadata": {
        "id": "dZKf9398Jo57"
      },
      "outputs": [],
      "source": [
        "t = \"theta\"\n",
        "print(t.find('ta'))"
      ]
    },
    {
      "cell_type": "code",
      "execution_count": null,
      "metadata": {
        "id": "3zBLx_5dJo57",
        "outputId": "9d7db419-6112-492b-aab1-9e4921470c28"
      },
      "outputs": [
        {
          "name": "stdout",
          "output_type": "stream",
          "text": [
            "15\n",
            "80\n",
            "198\n",
            "221\n",
            "238\n"
          ]
        }
      ],
      "source": [
        "txt = \"\"\"A variation of the ordinary lorem ipsum\n",
        "text has been used in typesetting since the 1960s\n",
        "or earlier, when it was popularized by advertisements\n",
        "for Letraset transfer sheets. It was introduced to\n",
        "the Information Age in the mid-1980s by the Aldus Corporation,\n",
        "which employed it in graphics and word-processing templates\n",
        "for its desktop publishing program PageMaker (from Wikipedia)\"\"\"\n",
        "\n",
        "fnd = txt.find('the')\n",
        "while fnd != -1:\n",
        "    print(fnd)\n",
        "    fnd = txt.find('the', fnd + 1)"
      ]
    },
    {
      "cell_type": "code",
      "execution_count": null,
      "metadata": {
        "id": "-CVZb-Y1Jo57",
        "outputId": "a468c1ff-c703-490b-aef7-1e047156464d"
      },
      "outputs": [
        {
          "name": "stdout",
          "output_type": "stream",
          "text": [
            "RT : @alzami1986 suka menonton Attack on Titans! (進撃の巨人) #aot  setiap kamis pukul 21.00 di http://netflix.com/aot . \\n meski tidak suka kekerasan, tapi cukup menikmati ?! #EldiaHarusMenang melawan #Marley  A ...\n"
          ]
        }
      ],
      "source": [
        "print(text)"
      ]
    },
    {
      "cell_type": "markdown",
      "metadata": {
        "id": "X-CBgAIuJo57"
      },
      "source": [
        "## import library <a name=\"import-library\"></a>"
      ]
    },
    {
      "cell_type": "code",
      "execution_count": null,
      "metadata": {
        "id": "TESWIFx8Jo57"
      },
      "outputs": [],
      "source": [
        "import re\n",
        "import string\n",
        "import time\n",
        "from copy import deepcopy"
      ]
    },
    {
      "cell_type": "markdown",
      "metadata": {
        "id": "TpI5jH8VJo57"
      },
      "source": [
        "## remove tab new line and back slice  <a name=\"remove-tab-new-line-and-back-slice\"></a>"
      ]
    },
    {
      "cell_type": "code",
      "execution_count": null,
      "metadata": {
        "id": "s5MTgz9-Jo57"
      },
      "outputs": [],
      "source": [
        "hasil = text.replace('\\\\t',\" \").replace('\\\\n',\" \").replace('\\\\u',\" \").replace('\\\\',\"\")"
      ]
    },
    {
      "cell_type": "code",
      "execution_count": null,
      "metadata": {
        "id": "H4rPXZcyJo58",
        "outputId": "eff575a5-5076-4f2c-a023-011d5dd78517"
      },
      "outputs": [
        {
          "data": {
            "text/plain": [
              "'RT : @alzami1986 suka menonton Attack on Titans! (進撃の巨人) #aot  setiap kamis pukul 21.00 di http://netflix.com/aot .   meski tidak suka kekerasan, tapi cukup menikmati ?! #EldiaHarusMenang melawan #Marley  A ...'"
            ]
          },
          "execution_count": 28,
          "metadata": {},
          "output_type": "execute_result"
        }
      ],
      "source": [
        "hasil"
      ]
    },
    {
      "cell_type": "markdown",
      "metadata": {
        "id": "NIKmHqV4Jo58"
      },
      "source": [
        "## remove non ASCII emoticon chinese word <a name=\"remove-non-ASCII-emoticon-chinese-word\"></a>"
      ]
    },
    {
      "cell_type": "code",
      "execution_count": null,
      "metadata": {
        "id": "0QvnjeUtJo58"
      },
      "outputs": [],
      "source": [
        "hasil = hasil.encode('ascii', 'replace').decode('ascii')"
      ]
    },
    {
      "cell_type": "code",
      "execution_count": null,
      "metadata": {
        "id": "j9Xnshm0Jo58",
        "outputId": "2c29c88a-d9c2-406d-bc81-16cbc3e0acbd"
      },
      "outputs": [
        {
          "data": {
            "text/plain": [
              "'RT : @alzami1986 suka menonton Attack on Titans! (?????) #aot  setiap kamis pukul 21.00 di http://netflix.com/aot .   meski tidak suka kekerasan, tapi cukup menikmati ?! #EldiaHarusMenang melawan #Marley  A ...'"
            ]
          },
          "execution_count": 30,
          "metadata": {},
          "output_type": "execute_result"
        }
      ],
      "source": [
        "hasil"
      ]
    },
    {
      "cell_type": "markdown",
      "metadata": {
        "id": "VSPIyfmRJo58"
      },
      "source": [
        "## remove mention, link, hashtag <a name=\"remove-mention-link-hashtag\"></a>"
      ]
    },
    {
      "cell_type": "code",
      "execution_count": null,
      "metadata": {
        "id": "hCxoPKpVJo58"
      },
      "outputs": [],
      "source": [
        "hasil = ' '.join(re.sub(\"([@#][A-Za-z0-9]+)|(\\w+:\\/\\/\\S+)\",\" \", hasil).split())"
      ]
    },
    {
      "cell_type": "code",
      "execution_count": null,
      "metadata": {
        "id": "uUoYiGQmJo58",
        "outputId": "2c68d8ba-7ec9-49e7-c30c-26d479f37157"
      },
      "outputs": [
        {
          "data": {
            "text/plain": [
              "'RT : suka menonton Attack on Titans! (?????) setiap kamis pukul 21.00 di . meski tidak suka kekerasan, tapi cukup menikmati ?! melawan A ...'"
            ]
          },
          "execution_count": 32,
          "metadata": {},
          "output_type": "execute_result"
        }
      ],
      "source": [
        "hasil"
      ]
    },
    {
      "cell_type": "markdown",
      "metadata": {
        "id": "YcGvJ80tJo58"
      },
      "source": [
        "## remove RT <a name=\"remove-rt\"></a>"
      ]
    },
    {
      "cell_type": "code",
      "execution_count": null,
      "metadata": {
        "id": "of1w2vh8Jo58"
      },
      "outputs": [],
      "source": [
        "hasil = hasil.replace('RT : ',\"\")"
      ]
    },
    {
      "cell_type": "code",
      "execution_count": null,
      "metadata": {
        "id": "ffS5nphFJo58",
        "outputId": "215a8086-d4d1-4112-f016-d6a2e09a31f9"
      },
      "outputs": [
        {
          "data": {
            "text/plain": [
              "'suka menonton Attack on Titans! (?????) setiap kamis pukul 21.00 di . meski tidak suka kekerasan, tapi cukup menikmati ?! melawan A ...'"
            ]
          },
          "execution_count": 34,
          "metadata": {},
          "output_type": "execute_result"
        }
      ],
      "source": [
        "hasil"
      ]
    },
    {
      "cell_type": "markdown",
      "metadata": {
        "id": "SVYd66YSJo58"
      },
      "source": [
        "## lower <a name=\"lower\"></a>"
      ]
    },
    {
      "cell_type": "code",
      "execution_count": null,
      "metadata": {
        "id": "9FzUl8L-Jo58"
      },
      "outputs": [],
      "source": [
        "hasil = hasil.lower()"
      ]
    },
    {
      "cell_type": "code",
      "execution_count": null,
      "metadata": {
        "id": "hyuKfiBBJo58",
        "outputId": "b3deceff-c816-4a65-fcd4-26bad5025121"
      },
      "outputs": [
        {
          "data": {
            "text/plain": [
              "'suka menonton attack on titans! (?????) setiap kamis pukul 21.00 di . meski tidak suka kekerasan, tapi cukup menikmati ?! melawan a ...'"
            ]
          },
          "execution_count": 36,
          "metadata": {},
          "output_type": "execute_result"
        }
      ],
      "source": [
        "hasil"
      ]
    },
    {
      "cell_type": "markdown",
      "metadata": {
        "id": "EU_lF7r3Jo58"
      },
      "source": [
        "## remove incomplete URL <a name=\"remove-incomplete-url\"></a>"
      ]
    },
    {
      "cell_type": "code",
      "execution_count": null,
      "metadata": {
        "id": "ptG9XxgAJo58"
      },
      "outputs": [],
      "source": [
        "hasil = hasil.replace('http://',\"\").replace('https://',\"\")"
      ]
    },
    {
      "cell_type": "code",
      "execution_count": 1,
      "metadata": {
        "colab": {
          "base_uri": "https://localhost:8080/",
          "height": 141
        },
        "id": "BoW15uJgJo58",
        "outputId": "98036f62-1f9c-42de-e1d0-27e1066c1907"
      },
      "outputs": [
        {
          "output_type": "error",
          "ename": "NameError",
          "evalue": "name 'hasil' is not defined",
          "traceback": [
            "\u001b[0;31m---------------------------------------------------------------------------\u001b[0m",
            "\u001b[0;31mNameError\u001b[0m                                 Traceback (most recent call last)",
            "\u001b[0;32m<ipython-input-1-75244b03c886>\u001b[0m in \u001b[0;36m<cell line: 0>\u001b[0;34m()\u001b[0m\n\u001b[0;32m----> 1\u001b[0;31m \u001b[0mhasil\u001b[0m\u001b[0;34m\u001b[0m\u001b[0;34m\u001b[0m\u001b[0m\n\u001b[0m",
            "\u001b[0;31mNameError\u001b[0m: name 'hasil' is not defined"
          ]
        }
      ],
      "source": [
        "hasil"
      ]
    },
    {
      "cell_type": "markdown",
      "metadata": {
        "id": "TCPN1CSeJo6A"
      },
      "source": [
        "## remove number <a name=\"remove-number\"></a>"
      ]
    },
    {
      "cell_type": "code",
      "execution_count": null,
      "metadata": {
        "id": "oTHVWOHeJo6A"
      },
      "outputs": [],
      "source": [
        "def remove_number(hasil):\n",
        "    return re.sub(r\"\\d+\", \"\", hasil)"
      ]
    },
    {
      "cell_type": "code",
      "execution_count": null,
      "metadata": {
        "id": "DexBmrjQJo6A"
      },
      "outputs": [],
      "source": [
        "hasil = remove_number(hasil)"
      ]
    },
    {
      "cell_type": "code",
      "execution_count": null,
      "metadata": {
        "id": "YTGOm5D5Jo6A",
        "outputId": "f3cc5e59-7fd6-4d42-b5f3-005fcd6f5546"
      },
      "outputs": [
        {
          "data": {
            "text/plain": [
              "'suka menonton attack on titans! (?????) setiap kamis pukul . di . meski tidak suka kekerasan, tapi cukup menikmati ?! melawan a ...'"
            ]
          },
          "execution_count": 41,
          "metadata": {},
          "output_type": "execute_result"
        }
      ],
      "source": [
        "hasil"
      ]
    },
    {
      "cell_type": "markdown",
      "metadata": {
        "id": "7fRoJbVeJo6A"
      },
      "source": [
        "## remove whitespace leading and trailing <a name=\"remove-whitespace-leading-and-trailing\"></a>\n",
        "\n",
        "digunakan untuk menghapus tanda spasi setelah titik pada akhir kalimat"
      ]
    },
    {
      "cell_type": "code",
      "execution_count": null,
      "metadata": {
        "id": "lz8ptv-eJo6A"
      },
      "outputs": [],
      "source": [
        "def remove_whitespace(hasil):\n",
        "    return hasil.strip()"
      ]
    },
    {
      "cell_type": "code",
      "execution_count": null,
      "metadata": {
        "id": "R8JJ6CqkJo6A"
      },
      "outputs": [],
      "source": [
        "hasil = remove_whitespace(hasil)"
      ]
    },
    {
      "cell_type": "code",
      "execution_count": null,
      "metadata": {
        "id": "2HvcPQb9Jo6A",
        "outputId": "7bdaeb27-0084-4ce8-8810-0c8d843bc8ee"
      },
      "outputs": [
        {
          "data": {
            "text/plain": [
              "'RT : @alzami1986 suka menonton Attack on Titans! (進撃の巨人) #aot  setiap kamis pukul 21.00 di http://netflix.com/aot . \\\\n meski tidak suka kekerasan, tapi cukup menikmati ?! #EldiaHarusMenang melawan #Marley  A ...'"
            ]
          },
          "execution_count": 44,
          "metadata": {},
          "output_type": "execute_result"
        }
      ],
      "source": [
        "text"
      ]
    },
    {
      "cell_type": "code",
      "execution_count": null,
      "metadata": {
        "id": "m88uXEBnJo6B",
        "outputId": "6c01e22e-72bd-449d-ca8e-d5015f75186d"
      },
      "outputs": [
        {
          "data": {
            "text/plain": [
              "'suka menonton attack on titans! (?????) setiap kamis pukul . di . meski tidak suka kekerasan, tapi cukup menikmati ?! melawan a ...'"
            ]
          },
          "execution_count": 45,
          "metadata": {},
          "output_type": "execute_result"
        }
      ],
      "source": [
        "hasil"
      ]
    },
    {
      "cell_type": "markdown",
      "metadata": {
        "id": "tP2DQdhKJo6B"
      },
      "source": [
        "## remove multiple whitespace into single whitespace <a name=\"remove-multiple-whitespace-into-single-whitespace\"></a>"
      ]
    },
    {
      "cell_type": "code",
      "execution_count": null,
      "metadata": {
        "id": "tegoTh2iJo6B"
      },
      "outputs": [],
      "source": [
        "def remove_whitespace_multi(hasil):\n",
        "    return re.sub('\\s+',' ',hasil)"
      ]
    },
    {
      "cell_type": "code",
      "execution_count": null,
      "metadata": {
        "id": "fZq5xtUaJo6B"
      },
      "outputs": [],
      "source": [
        "hasil = remove_whitespace_multi(hasil)"
      ]
    },
    {
      "cell_type": "code",
      "execution_count": null,
      "metadata": {
        "id": "rN0nMhrSJo6B",
        "outputId": "5c53653e-77f6-436e-f923-1edbaffebc83"
      },
      "outputs": [
        {
          "data": {
            "text/plain": [
              "'suka menonton attack on titans! (?????) setiap kamis pukul . di . meski tidak suka kekerasan, tapi cukup menikmati ?! melawan a ...'"
            ]
          },
          "execution_count": 48,
          "metadata": {},
          "output_type": "execute_result"
        }
      ],
      "source": [
        "hasil"
      ]
    },
    {
      "cell_type": "markdown",
      "metadata": {
        "id": "mF-P86mIJo6B"
      },
      "source": [
        "## remove single char <a name=\"remove-single-char\"></a>"
      ]
    },
    {
      "cell_type": "code",
      "execution_count": null,
      "metadata": {
        "id": "KSwn7r-4Jo6B"
      },
      "outputs": [],
      "source": [
        "def remove_single_char(hasil):\n",
        "    return re.sub(r\"\\b[a-zA-Z]\\b\", \"\", hasil)"
      ]
    },
    {
      "cell_type": "code",
      "execution_count": null,
      "metadata": {
        "id": "CSWL1c0gJo6B"
      },
      "outputs": [],
      "source": [
        "hasil = remove_single_char(hasil)"
      ]
    },
    {
      "cell_type": "code",
      "execution_count": null,
      "metadata": {
        "id": "MRsxnUPYJo6B",
        "outputId": "8564b195-d989-4dde-b300-1fe8ef4bf872"
      },
      "outputs": [
        {
          "data": {
            "text/plain": [
              "'suka menonton attack on titans! (?????) setiap kamis pukul . di . meski tidak suka kekerasan, tapi cukup menikmati ?! melawan  ...'"
            ]
          },
          "execution_count": 51,
          "metadata": {},
          "output_type": "execute_result"
        }
      ],
      "source": [
        "hasil"
      ]
    },
    {
      "cell_type": "markdown",
      "metadata": {
        "id": "P9GVTHtaJo6B"
      },
      "source": [
        "## remove excessive dot <a name=\"remove-excessive-dot\"></a>"
      ]
    },
    {
      "cell_type": "code",
      "execution_count": null,
      "metadata": {
        "id": "Og8vQkaTJo6B"
      },
      "outputs": [],
      "source": [
        "def remove_excessive_dot(hasil):\n",
        "    return hasil.replace('...',\" \")"
      ]
    },
    {
      "cell_type": "code",
      "execution_count": null,
      "metadata": {
        "id": "tysVgXcVJo6B"
      },
      "outputs": [],
      "source": [
        "hasil = remove_excessive_dot(hasil)"
      ]
    },
    {
      "cell_type": "code",
      "execution_count": null,
      "metadata": {
        "id": "aZaJximIJo6B",
        "outputId": "dba65547-e18c-4da8-ff34-769c421c3e80"
      },
      "outputs": [
        {
          "data": {
            "text/plain": [
              "'suka menonton attack on titans! (?????) setiap kamis pukul . di . meski tidak suka kekerasan, tapi cukup menikmati ?! melawan   '"
            ]
          },
          "execution_count": 55,
          "metadata": {},
          "output_type": "execute_result"
        }
      ],
      "source": [
        "hasil"
      ]
    },
    {
      "cell_type": "markdown",
      "metadata": {
        "id": "phChe5ewJo6B"
      },
      "source": [
        "## remove punctuation <a name=\"remove-punctuation\"></a>"
      ]
    },
    {
      "cell_type": "code",
      "execution_count": null,
      "metadata": {
        "id": "Erb6wgkWJo6B"
      },
      "outputs": [],
      "source": [
        "def remove_punctuation(hasil):\n",
        "    return hasil.translate(str.maketrans(\"\",\"\",string.punctuation))"
      ]
    },
    {
      "cell_type": "code",
      "execution_count": null,
      "metadata": {
        "id": "CdHXWAFXJo6B"
      },
      "outputs": [],
      "source": [
        "hasil = remove_punctuation(hasil)"
      ]
    },
    {
      "cell_type": "code",
      "execution_count": null,
      "metadata": {
        "id": "pRVxQPJCJo6B",
        "outputId": "cb0be206-ace0-43ff-88ad-00e0fafc4c4a"
      },
      "outputs": [
        {
          "data": {
            "text/plain": [
              "'RT : @alzami1986 suka menonton Attack on Titans! (進撃の巨人) #aot  setiap kamis pukul 21.00 di http://netflix.com/aot . \\\\n meski tidak suka kekerasan, tapi cukup menikmati ?! #EldiaHarusMenang melawan #Marley  A ...'"
            ]
          },
          "execution_count": 63,
          "metadata": {},
          "output_type": "execute_result"
        }
      ],
      "source": [
        "text"
      ]
    },
    {
      "cell_type": "code",
      "execution_count": null,
      "metadata": {
        "id": "xpSqqwUbJo6B",
        "outputId": "67abc990-93a4-4f19-f3af-af5d57271e6a"
      },
      "outputs": [
        {
          "data": {
            "text/plain": [
              "'suka menonton attack on titans  setiap kamis pukul  di  meski tidak suka kekerasan tapi cukup menikmati  melawan   '"
            ]
          },
          "execution_count": 64,
          "metadata": {},
          "output_type": "execute_result"
        }
      ],
      "source": [
        "hasil"
      ]
    },
    {
      "cell_type": "markdown",
      "metadata": {
        "id": "y1xUOvmyJo6C"
      },
      "source": [
        "## remove excessive whitespace <a name=\"remove-excessive-whitespace\"></a>"
      ]
    },
    {
      "cell_type": "code",
      "execution_count": null,
      "metadata": {
        "id": "10PsasJFJo6C"
      },
      "outputs": [],
      "source": [
        "document = \" saya                    tidak suka sambal     bikin sakit    \""
      ]
    },
    {
      "cell_type": "code",
      "execution_count": null,
      "metadata": {
        "id": "T0xb_6M2Jo6C"
      },
      "outputs": [],
      "source": [
        "nowhite = ' '.join(document.split())"
      ]
    },
    {
      "cell_type": "code",
      "execution_count": null,
      "metadata": {
        "id": "eXEDKoWYJo6C",
        "outputId": "47c20400-bb23-4b4d-ab21-cc8657ab31e4"
      },
      "outputs": [
        {
          "data": {
            "text/plain": [
              "'saya tidak suka sambal bikin sakit'"
            ]
          },
          "execution_count": 61,
          "metadata": {},
          "output_type": "execute_result"
        }
      ],
      "source": [
        "nowhite"
      ]
    }
  ],
  "metadata": {
    "kernelspec": {
      "display_name": "Python 3 (ipykernel)",
      "language": "python",
      "name": "python3"
    },
    "language_info": {
      "codemirror_mode": {
        "name": "ipython",
        "version": 3
      },
      "file_extension": ".py",
      "mimetype": "text/x-python",
      "name": "python",
      "nbconvert_exporter": "python",
      "pygments_lexer": "ipython3",
      "version": "3.9.5"
    },
    "colab": {
      "provenance": [],
      "include_colab_link": true
    }
  },
  "nbformat": 4,
  "nbformat_minor": 0
}